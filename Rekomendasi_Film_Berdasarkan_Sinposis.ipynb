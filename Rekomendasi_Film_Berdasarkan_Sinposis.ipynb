{
  "nbformat": 4,
  "nbformat_minor": 0,
  "metadata": {
    "colab": {
      "provenance": []
    },
    "kernelspec": {
      "name": "python3",
      "display_name": "Python 3"
    },
    "language_info": {
      "name": "python"
    }
  },
  "cells": [
    {
      "cell_type": "code",
      "execution_count": null,
      "metadata": {
        "colab": {
          "base_uri": "https://localhost:8080/"
        },
        "id": "PBn8J5m8IygZ",
        "outputId": "dd50455c-9441-46ca-d9c6-02f1399e73d0"
      },
      "outputs": [
        {
          "output_type": "stream",
          "name": "stdout",
          "text": [
            "\n",
            "Masukkan judul film (atau ketik 'exit' untuk keluar): Pocong\n",
            "\n",
            "Rekomendasi film berdasarkan sinopsis:\n",
            "1. Pocong 2\n",
            "2. Beranak dalam Kubur\n",
            "3. Perawan Rimba\n",
            "4. Skandal Iblis\n",
            "5. Kembalinya Anak Iblis\n",
            "\n",
            "Masukkan judul film (atau ketik 'exit' untuk keluar): asd\n",
            "Film Belum Tersedia Di Dataset\n"
          ]
        }
      ],
      "source": [
        "import pandas as pd\n",
        "from sklearn.feature_extraction.text import TfidfVectorizer\n",
        "from sklearn.metrics.pairwise import cosine_similarity\n",
        "\n",
        "df = pd.read_csv(\"indonesian_movies.csv\")\n",
        "df['description'] = df['description'].fillna(\"\")\n",
        "\n",
        "\n",
        "vectorizer = TfidfVectorizer(stop_words='english')\n",
        "tfidf_matrix = vectorizer.fit_transform(df['description'])\n",
        "\n",
        "\n",
        "def recommend_movies(title, top_n=5):\n",
        "    if title not in df['title'].values:\n",
        "        return \"Film Belum Tersedia Di Dataset\"\n",
        "\n",
        "    idx = df[df['title'] == title].index[0]\n",
        "    cosine_sim = cosine_similarity(tfidf_matrix[idx], tfidf_matrix).flatten()\n",
        "    similar_indices = cosine_sim.argsort()[::-1][1:top_n+1]\n",
        "    recommendations = df.iloc[similar_indices]['title'].tolist()\n",
        "    return recommendations\n",
        "\n",
        "\n",
        "while True:\n",
        "    user_input = input(\"\\nMasukkan judul film (atau ketik 'exit' untuk keluar): \")\n",
        "    if user_input.lower() == 'exit':\n",
        "        break\n",
        "\n",
        "    hasil = recommend_movies(user_input)\n",
        "\n",
        "    if isinstance(hasil, str):\n",
        "        print(hasil)\n",
        "    else:\n",
        "        print(\"\\nRekomendasi film berdasarkan sinopsis:\")\n",
        "        for i, title in enumerate(hasil, 1):\n",
        "            print(f\"{i}. {title}\")\n"
      ]
    }
  ]
}